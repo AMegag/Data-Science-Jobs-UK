{
 "cells": [
  {
   "cell_type": "code",
   "execution_count": 1,
   "metadata": {},
   "outputs": [],
   "source": [
    "import pandas as pd\n",
    "import numpy as np"
   ]
  },
  {
   "cell_type": "code",
   "execution_count": 18,
   "metadata": {},
   "outputs": [],
   "source": [
    "jobs = pd.read_csv(\"Cleaned_Dataset.csv\")"
   ]
  },
  {
   "cell_type": "code",
   "execution_count": 19,
   "metadata": {},
   "outputs": [],
   "source": [
    "jobs2 = pd.read_csv(\"Raw_Dataset.csv\")"
   ]
  },
  {
   "cell_type": "code",
   "execution_count": 29,
   "metadata": {},
   "outputs": [
    {
     "data": {
      "text/html": [
       "<div>\n",
       "<style scoped>\n",
       "    .dataframe tbody tr th:only-of-type {\n",
       "        vertical-align: middle;\n",
       "    }\n",
       "\n",
       "    .dataframe tbody tr th {\n",
       "        vertical-align: top;\n",
       "    }\n",
       "\n",
       "    .dataframe thead th {\n",
       "        text-align: right;\n",
       "    }\n",
       "</style>\n",
       "<table border=\"1\" class=\"dataframe\">\n",
       "  <thead>\n",
       "    <tr style=\"text-align: right;\">\n",
       "      <th></th>\n",
       "      <th>company</th>\n",
       "      <th>company score</th>\n",
       "      <th>job title</th>\n",
       "      <th>location</th>\n",
       "      <th>date</th>\n",
       "      <th>salary</th>\n",
       "      <th>skills</th>\n",
       "    </tr>\n",
       "  </thead>\n",
       "  <tbody>\n",
       "    <tr>\n",
       "      <th>0</th>\n",
       "      <td>razorpoint</td>\n",
       "      <td>3.4</td>\n",
       "      <td>junior data scientist</td>\n",
       "      <td>manchester, england</td>\n",
       "      <td>3d</td>\n",
       "      <td>£35k (employer est.)</td>\n",
       "      <td>data mining, big data, r, data analysis skills...</td>\n",
       "    </tr>\n",
       "    <tr>\n",
       "      <th>1</th>\n",
       "      <td>tower hamlets</td>\n",
       "      <td>3.7</td>\n",
       "      <td>assistant data scientist (graduate) | r-2375</td>\n",
       "      <td>london, england</td>\n",
       "      <td>5d</td>\n",
       "      <td>£31.00 per hour (employer est.)</td>\n",
       "      <td>r, sql, javascript, python</td>\n",
       "    </tr>\n",
       "    <tr>\n",
       "      <th>2</th>\n",
       "      <td>tw</td>\n",
       "      <td>4.0</td>\n",
       "      <td>data scientist</td>\n",
       "      <td>nottingham, england</td>\n",
       "      <td>30d+</td>\n",
       "      <td>£50k - £65k (employer est.)</td>\n",
       "      <td>sql, maths, data science, python</td>\n",
       "    </tr>\n",
       "    <tr>\n",
       "      <th>3</th>\n",
       "      <td>natwest group</td>\n",
       "      <td>4.6</td>\n",
       "      <td>data scientist</td>\n",
       "      <td>edinburgh, scotland</td>\n",
       "      <td>2d</td>\n",
       "      <td>£41k - £54k (glassdoor est.)</td>\n",
       "      <td>software deployment, data analysis skills, sta...</td>\n",
       "    </tr>\n",
       "    <tr>\n",
       "      <th>4</th>\n",
       "      <td>iwoca</td>\n",
       "      <td>3.9</td>\n",
       "      <td>data scientist - ops</td>\n",
       "      <td>london, england</td>\n",
       "      <td>7d</td>\n",
       "      <td>£60k - £90k (employer est.)</td>\n",
       "      <td>matlab, r, maths, c, machine learning</td>\n",
       "    </tr>\n",
       "  </tbody>\n",
       "</table>\n",
       "</div>"
      ],
      "text/plain": [
       "         company  company score                                     job title  \\\n",
       "0     razorpoint            3.4                         junior data scientist   \n",
       "1  tower hamlets            3.7  assistant data scientist (graduate) | r-2375   \n",
       "2             tw            4.0                                data scientist   \n",
       "3  natwest group            4.6                                data scientist   \n",
       "4          iwoca            3.9                          data scientist - ops   \n",
       "\n",
       "              location  date                           salary  \\\n",
       "0  manchester, england    3d             £35k (employer est.)   \n",
       "1      london, england    5d  £31.00 per hour (employer est.)   \n",
       "2  nottingham, england  30d+      £50k - £65k (employer est.)   \n",
       "3  edinburgh, scotland    2d     £41k - £54k (glassdoor est.)   \n",
       "4      london, england    7d      £60k - £90k (employer est.)   \n",
       "\n",
       "                                              skills  \n",
       "0  data mining, big data, r, data analysis skills...  \n",
       "1                         r, sql, javascript, python  \n",
       "2                   sql, maths, data science, python  \n",
       "3  software deployment, data analysis skills, sta...  \n",
       "4              matlab, r, maths, c, machine learning  "
      ]
     },
     "execution_count": 29,
     "metadata": {},
     "output_type": "execute_result"
    }
   ],
   "source": [
    "jobs.head()"
   ]
  },
  {
   "cell_type": "code",
   "execution_count": 32,
   "metadata": {},
   "outputs": [],
   "source": [
    "# lower all column names\n",
    "jobs.columns = jobs.columns.str.lower()"
   ]
  },
  {
   "cell_type": "code",
   "execution_count": 33,
   "metadata": {},
   "outputs": [],
   "source": [
    "# lower all text in dataframe\n",
    "jobs = jobs.applymap(lambda x: x.lower() if isinstance(x, str) else x)"
   ]
  },
  {
   "cell_type": "code",
   "execution_count": null,
   "metadata": {},
   "outputs": [],
   "source": [
    "# new column to convert to aud\n",
    "jobs[\"aud_salary\"] = jobs[\"salary\"]*1.97"
   ]
  },
  {
   "cell_type": "code",
   "execution_count": 34,
   "metadata": {},
   "outputs": [
    {
     "data": {
      "text/html": [
       "<div>\n",
       "<style scoped>\n",
       "    .dataframe tbody tr th:only-of-type {\n",
       "        vertical-align: middle;\n",
       "    }\n",
       "\n",
       "    .dataframe tbody tr th {\n",
       "        vertical-align: top;\n",
       "    }\n",
       "\n",
       "    .dataframe thead th {\n",
       "        text-align: right;\n",
       "    }\n",
       "</style>\n",
       "<table border=\"1\" class=\"dataframe\">\n",
       "  <thead>\n",
       "    <tr style=\"text-align: right;\">\n",
       "      <th></th>\n",
       "      <th>company</th>\n",
       "      <th>company score</th>\n",
       "      <th>job title</th>\n",
       "      <th>date</th>\n",
       "      <th>salary</th>\n",
       "      <th>skills</th>\n",
       "      <th>estimation type</th>\n",
       "      <th>remote</th>\n",
       "      <th>city</th>\n",
       "      <th>country</th>\n",
       "      <th>aud_salary</th>\n",
       "    </tr>\n",
       "  </thead>\n",
       "  <tbody>\n",
       "    <tr>\n",
       "      <th>0</th>\n",
       "      <td>razorpoint</td>\n",
       "      <td>3.4</td>\n",
       "      <td>junior data scientist</td>\n",
       "      <td>3.0</td>\n",
       "      <td>35000.0</td>\n",
       "      <td>data mining, big data, r, data analysis skills...</td>\n",
       "      <td>employer est.</td>\n",
       "      <td>onsite</td>\n",
       "      <td>manchester</td>\n",
       "      <td>england</td>\n",
       "      <td>68950.0</td>\n",
       "    </tr>\n",
       "    <tr>\n",
       "      <th>1</th>\n",
       "      <td>tower hamlets</td>\n",
       "      <td>3.7</td>\n",
       "      <td>assistant data scientist (graduate) | r-2375</td>\n",
       "      <td>5.0</td>\n",
       "      <td>64480.0</td>\n",
       "      <td>r, sql, javascript, python</td>\n",
       "      <td>employer est.</td>\n",
       "      <td>onsite</td>\n",
       "      <td>london</td>\n",
       "      <td>england</td>\n",
       "      <td>127025.6</td>\n",
       "    </tr>\n",
       "    <tr>\n",
       "      <th>2</th>\n",
       "      <td>tw</td>\n",
       "      <td>4.0</td>\n",
       "      <td>data scientist</td>\n",
       "      <td>31.0</td>\n",
       "      <td>57500.0</td>\n",
       "      <td>sql, maths, data science, python</td>\n",
       "      <td>employer est.</td>\n",
       "      <td>onsite</td>\n",
       "      <td>nottingham</td>\n",
       "      <td>england</td>\n",
       "      <td>113275.0</td>\n",
       "    </tr>\n",
       "    <tr>\n",
       "      <th>3</th>\n",
       "      <td>natwest group</td>\n",
       "      <td>4.6</td>\n",
       "      <td>data scientist</td>\n",
       "      <td>2.0</td>\n",
       "      <td>47500.0</td>\n",
       "      <td>software deployment, data analysis skills, sta...</td>\n",
       "      <td>glasdoor est.</td>\n",
       "      <td>onsite</td>\n",
       "      <td>edinburgh</td>\n",
       "      <td>scotland</td>\n",
       "      <td>93575.0</td>\n",
       "    </tr>\n",
       "    <tr>\n",
       "      <th>4</th>\n",
       "      <td>iwoca</td>\n",
       "      <td>3.9</td>\n",
       "      <td>data scientist - ops</td>\n",
       "      <td>7.0</td>\n",
       "      <td>75000.0</td>\n",
       "      <td>matlab, r, maths, c, machine learning</td>\n",
       "      <td>employer est.</td>\n",
       "      <td>onsite</td>\n",
       "      <td>london</td>\n",
       "      <td>england</td>\n",
       "      <td>147750.0</td>\n",
       "    </tr>\n",
       "  </tbody>\n",
       "</table>\n",
       "</div>"
      ],
      "text/plain": [
       "         company  company score                                     job title  \\\n",
       "0     razorpoint            3.4                         junior data scientist   \n",
       "1  tower hamlets            3.7  assistant data scientist (graduate) | r-2375   \n",
       "2             tw            4.0                                data scientist   \n",
       "3  natwest group            4.6                                data scientist   \n",
       "4          iwoca            3.9                          data scientist - ops   \n",
       "\n",
       "   date   salary                                             skills  \\\n",
       "0   3.0  35000.0  data mining, big data, r, data analysis skills...   \n",
       "1   5.0  64480.0                         r, sql, javascript, python   \n",
       "2  31.0  57500.0                   sql, maths, data science, python   \n",
       "3   2.0  47500.0  software deployment, data analysis skills, sta...   \n",
       "4   7.0  75000.0              matlab, r, maths, c, machine learning   \n",
       "\n",
       "  estimation type  remote        city   country  aud_salary  \n",
       "0   employer est.  onsite  manchester   england     68950.0  \n",
       "1   employer est.  onsite      london   england    127025.6  \n",
       "2   employer est.  onsite  nottingham   england    113275.0  \n",
       "3   glasdoor est.  onsite   edinburgh  scotland     93575.0  \n",
       "4   employer est.  onsite      london   england    147750.0  "
      ]
     },
     "execution_count": 34,
     "metadata": {},
     "output_type": "execute_result"
    }
   ],
   "source": [
    "jobs.head()"
   ]
  },
  {
   "cell_type": "markdown",
   "metadata": {},
   "source": [
    "Questions:\n",
    "1. Which company is hiring the most individuals?\n",
    "2. What is the max/min/average/median Salary?"
   ]
  },
  {
   "cell_type": "markdown",
   "metadata": {},
   "source": [
    "##### 1. Jobs Salary description"
   ]
  },
  {
   "cell_type": "code",
   "execution_count": 54,
   "metadata": {},
   "outputs": [
    {
     "data": {
      "text/plain": [
       "count       635.000000\n",
       "mean      65487.181102\n",
       "std       22964.437740\n",
       "min       24500.000000\n",
       "25%       49250.000000\n",
       "50%       63000.000000\n",
       "75%       76250.000000\n",
       "max      200000.000000\n",
       "Name: salary, dtype: float64"
      ]
     },
     "execution_count": 54,
     "metadata": {},
     "output_type": "execute_result"
    }
   ],
   "source": [
    "jobs['salary'].describe()"
   ]
  },
  {
   "cell_type": "code",
   "execution_count": 53,
   "metadata": {},
   "outputs": [
    {
     "data": {
      "text/plain": [
       "count       635.000000\n",
       "mean     129009.746772\n",
       "std       45239.942348\n",
       "min       48265.000000\n",
       "25%       97022.500000\n",
       "50%      124110.000000\n",
       "75%      150212.500000\n",
       "max      394000.000000\n",
       "Name: aud_salary, dtype: float64"
      ]
     },
     "execution_count": 53,
     "metadata": {},
     "output_type": "execute_result"
    }
   ],
   "source": [
    "jobs['aud_salary'].describe()\n",
    "# Salary seems relatively similar to AUS"
   ]
  },
  {
   "cell_type": "markdown",
   "metadata": {},
   "source": [
    "##### 2. Companies recruiting"
   ]
  },
  {
   "cell_type": "code",
   "execution_count": 40,
   "metadata": {},
   "outputs": [
    {
     "data": {
      "text/plain": [
       "413"
      ]
     },
     "execution_count": 40,
     "metadata": {},
     "output_type": "execute_result"
    }
   ],
   "source": [
    "jobs[\"company\"].nunique() # 413 unique companies are recruiting for these roles..."
   ]
  },
  {
   "cell_type": "code",
   "execution_count": 48,
   "metadata": {},
   "outputs": [
    {
     "data": {
      "text/plain": [
       "jpmorgan chase & co    12\n",
       "capgemini invent       11\n",
       "meta                   10\n",
       "spotify                 8\n",
       "instadeep               8\n",
       "                       ..\n",
       "coinbase                1\n",
       "sidetrade               1\n",
       "fm conway               1\n",
       "the rank group          1\n",
       "cyclotron, inc.         1\n",
       "Name: company, Length: 413, dtype: int64"
      ]
     },
     "execution_count": 48,
     "metadata": {},
     "output_type": "execute_result"
    }
   ],
   "source": [
    "jobs[\"company\"].value_counts() # Top 2 recruiting businesses are banks and this is followed by a wave of tech..."
   ]
  },
  {
   "cell_type": "markdown",
   "metadata": {},
   "source": [
    "##### 3. Job Locations"
   ]
  },
  {
   "cell_type": "code",
   "execution_count": 47,
   "metadata": {},
   "outputs": [
    {
     "data": {
      "text/plain": [
       "onsite    596\n",
       "remote     39\n",
       "Name: remote, dtype: int64"
      ]
     },
     "execution_count": 47,
     "metadata": {},
     "output_type": "execute_result"
    }
   ],
   "source": [
    "# Count of job location types (Remote vs Onsite)\n",
    "jobs[\"remote\"].value_counts()\n",
    "# Most jobs seem to be moving to onsite as of recently..."
   ]
  },
  {
   "cell_type": "code",
   "execution_count": 55,
   "metadata": {},
   "outputs": [
    {
     "data": {
      "text/plain": [
       "london                  362\n",
       "manchester               28\n",
       "cambridge                16\n",
       "bristol                  14\n",
       "edinburgh                 9\n",
       "                       ... \n",
       "sevenoaks                 1\n",
       "kingston upon thames      1\n",
       "loughborough              1\n",
       "sedgefield                1\n",
       "sonning                   1\n",
       "Name: city, Length: 77, dtype: int64"
      ]
     },
     "execution_count": 55,
     "metadata": {},
     "output_type": "execute_result"
    }
   ],
   "source": [
    "jobs[\"city\"].value_counts() # London by far the top employer with 362..."
   ]
  }
 ],
 "metadata": {
  "kernelspec": {
   "display_name": "base",
   "language": "python",
   "name": "python3"
  },
  "language_info": {
   "codemirror_mode": {
    "name": "ipython",
    "version": 3
   },
   "file_extension": ".py",
   "mimetype": "text/x-python",
   "name": "python",
   "nbconvert_exporter": "python",
   "pygments_lexer": "ipython3",
   "version": "3.9.7"
  }
 },
 "nbformat": 4,
 "nbformat_minor": 2
}
